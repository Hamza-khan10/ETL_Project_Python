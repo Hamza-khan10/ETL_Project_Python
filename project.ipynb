{
 "cells": [
  {
   "cell_type": "markdown",
   "id": "669b27c8",
   "metadata": {},
   "source": [
    "# Importing Libraries"
   ]
  },
  {
   "cell_type": "code",
   "execution_count": 17,
   "id": "26b30ca7",
   "metadata": {},
   "outputs": [],
   "source": [
    "from bs4 import BeautifulSoup\n",
    "import requests\n",
    "import pandas as pd\n",
    "import numpy as np\n",
    "from datetime import datetime\n",
    "from io import StringIO\n",
    "import sqlite3"
   ]
  },
  {
   "cell_type": "markdown",
   "id": "bab1269c",
   "metadata": {},
   "source": [
    "# Logs"
   ]
  },
  {
   "cell_type": "code",
   "execution_count": 18,
   "id": "5a032a37",
   "metadata": {},
   "outputs": [],
   "source": [
    "def save_logs(message):\n",
    "    with open('./input/logs/code_logs.txt','a') as f:\n",
    "        f.write(f'{datetime.now()}: {message}')"
   ]
  },
  {
   "cell_type": "code",
   "execution_count": 19,
   "id": "d2e5ad76",
   "metadata": {},
   "outputs": [
    {
     "data": {
      "text/plain": [
       "datetime.datetime(2025, 6, 21, 20, 2, 54, 611762)"
      ]
     },
     "execution_count": 19,
     "metadata": {},
     "output_type": "execute_result"
    }
   ],
   "source": [
    "datetime.now()"
   ]
  },
  {
   "cell_type": "markdown",
   "id": "ccf50d5d",
   "metadata": {},
   "source": [
    "# Extract\n"
   ]
  },
  {
   "cell_type": "code",
   "execution_count": 20,
   "id": "49e6242c",
   "metadata": {},
   "outputs": [],
   "source": [
    "# URL of the webpage containing the table\n",
    "url = 'https://web.archive.org/web/20230908091635/https://en.wikipedia.org/wiki/List_of_largest_banks'\n",
    "# Send a GET request to the website\n",
    "response = requests.get(url)\n",
    "soup = BeautifulSoup(response.content, 'html.parser')\n",
    "table= soup.find('span',string='By market capitalization').find_next('table')\n",
    "df_main= pd.read_html(StringIO(str(table)))[0]\n"
   ]
  },
  {
   "cell_type": "code",
   "execution_count": 21,
   "id": "9c0aeaa1",
   "metadata": {},
   "outputs": [
    {
     "name": "stdout",
     "output_type": "stream",
     "text": [
      "https://web.archive.org/web/20230908091635/https://en.wikipedia.org/wiki/List_of_largest_banks\n"
     ]
    },
    {
     "data": {
      "text/html": [
       "<div>\n",
       "<style scoped>\n",
       "    .dataframe tbody tr th:only-of-type {\n",
       "        vertical-align: middle;\n",
       "    }\n",
       "\n",
       "    .dataframe tbody tr th {\n",
       "        vertical-align: top;\n",
       "    }\n",
       "\n",
       "    .dataframe thead th {\n",
       "        text-align: right;\n",
       "    }\n",
       "</style>\n",
       "<table border=\"1\" class=\"dataframe\">\n",
       "  <thead>\n",
       "    <tr style=\"text-align: right;\">\n",
       "      <th></th>\n",
       "      <th>Rank</th>\n",
       "      <th>Bank name</th>\n",
       "      <th>Market cap (US$ billion)</th>\n",
       "    </tr>\n",
       "  </thead>\n",
       "  <tbody>\n",
       "    <tr>\n",
       "      <th>0</th>\n",
       "      <td>1</td>\n",
       "      <td>JPMorgan Chase</td>\n",
       "      <td>432.92</td>\n",
       "    </tr>\n",
       "    <tr>\n",
       "      <th>1</th>\n",
       "      <td>2</td>\n",
       "      <td>Bank of America</td>\n",
       "      <td>231.52</td>\n",
       "    </tr>\n",
       "    <tr>\n",
       "      <th>2</th>\n",
       "      <td>3</td>\n",
       "      <td>Industrial and Commercial Bank of China</td>\n",
       "      <td>194.56</td>\n",
       "    </tr>\n",
       "    <tr>\n",
       "      <th>3</th>\n",
       "      <td>4</td>\n",
       "      <td>Agricultural Bank of China</td>\n",
       "      <td>160.68</td>\n",
       "    </tr>\n",
       "    <tr>\n",
       "      <th>4</th>\n",
       "      <td>5</td>\n",
       "      <td>HDFC Bank</td>\n",
       "      <td>157.91</td>\n",
       "    </tr>\n",
       "    <tr>\n",
       "      <th>5</th>\n",
       "      <td>6</td>\n",
       "      <td>Wells Fargo</td>\n",
       "      <td>155.87</td>\n",
       "    </tr>\n",
       "    <tr>\n",
       "      <th>6</th>\n",
       "      <td>7</td>\n",
       "      <td>HSBC Holdings PLC</td>\n",
       "      <td>148.90</td>\n",
       "    </tr>\n",
       "    <tr>\n",
       "      <th>7</th>\n",
       "      <td>8</td>\n",
       "      <td>Morgan Stanley</td>\n",
       "      <td>140.83</td>\n",
       "    </tr>\n",
       "    <tr>\n",
       "      <th>8</th>\n",
       "      <td>9</td>\n",
       "      <td>China Construction Bank</td>\n",
       "      <td>139.82</td>\n",
       "    </tr>\n",
       "    <tr>\n",
       "      <th>9</th>\n",
       "      <td>10</td>\n",
       "      <td>Bank of China</td>\n",
       "      <td>136.81</td>\n",
       "    </tr>\n",
       "  </tbody>\n",
       "</table>\n",
       "</div>"
      ],
      "text/plain": [
       "   Rank                                Bank name  Market cap (US$ billion)\n",
       "0     1                           JPMorgan Chase                    432.92\n",
       "1     2                          Bank of America                    231.52\n",
       "2     3  Industrial and Commercial Bank of China                    194.56\n",
       "3     4               Agricultural Bank of China                    160.68\n",
       "4     5                                HDFC Bank                    157.91\n",
       "5     6                              Wells Fargo                    155.87\n",
       "6     7                        HSBC Holdings PLC                    148.90\n",
       "7     8                           Morgan Stanley                    140.83\n",
       "8     9                  China Construction Bank                    139.82\n",
       "9    10                            Bank of China                    136.81"
      ]
     },
     "execution_count": 21,
     "metadata": {},
     "output_type": "execute_result"
    }
   ],
   "source": [
    "def extract(url):\n",
    "    print(url)\n",
    "    soup = BeautifulSoup(requests.get(url).text,'html.parser')\n",
    "    table= soup.find('span',string='By market capitalization').find_next('table')\n",
    "    df =pd.read_html(StringIO(str(table)))[0]\n",
    "    save_logs('Data has been extracted')\n",
    "    return df\n",
    "extract('https://web.archive.org/web/20230908091635/https://en.wikipedia.org/wiki/List_of_largest_banks')"
   ]
  },
  {
   "cell_type": "code",
   "execution_count": 22,
   "id": "f1987ae5",
   "metadata": {},
   "outputs": [
    {
     "data": {
      "text/html": [
       "<div>\n",
       "<style scoped>\n",
       "    .dataframe tbody tr th:only-of-type {\n",
       "        vertical-align: middle;\n",
       "    }\n",
       "\n",
       "    .dataframe tbody tr th {\n",
       "        vertical-align: top;\n",
       "    }\n",
       "\n",
       "    .dataframe thead th {\n",
       "        text-align: right;\n",
       "    }\n",
       "</style>\n",
       "<table border=\"1\" class=\"dataframe\">\n",
       "  <thead>\n",
       "    <tr style=\"text-align: right;\">\n",
       "      <th></th>\n",
       "      <th>Rank</th>\n",
       "      <th>Bank name</th>\n",
       "      <th>Market cap (US$ billion)</th>\n",
       "    </tr>\n",
       "  </thead>\n",
       "  <tbody>\n",
       "    <tr>\n",
       "      <th>0</th>\n",
       "      <td>1</td>\n",
       "      <td>JPMorgan Chase</td>\n",
       "      <td>432.92</td>\n",
       "    </tr>\n",
       "    <tr>\n",
       "      <th>1</th>\n",
       "      <td>2</td>\n",
       "      <td>Bank of America</td>\n",
       "      <td>231.52</td>\n",
       "    </tr>\n",
       "    <tr>\n",
       "      <th>2</th>\n",
       "      <td>3</td>\n",
       "      <td>Industrial and Commercial Bank of China</td>\n",
       "      <td>194.56</td>\n",
       "    </tr>\n",
       "    <tr>\n",
       "      <th>3</th>\n",
       "      <td>4</td>\n",
       "      <td>Agricultural Bank of China</td>\n",
       "      <td>160.68</td>\n",
       "    </tr>\n",
       "    <tr>\n",
       "      <th>4</th>\n",
       "      <td>5</td>\n",
       "      <td>HDFC Bank</td>\n",
       "      <td>157.91</td>\n",
       "    </tr>\n",
       "    <tr>\n",
       "      <th>5</th>\n",
       "      <td>6</td>\n",
       "      <td>Wells Fargo</td>\n",
       "      <td>155.87</td>\n",
       "    </tr>\n",
       "    <tr>\n",
       "      <th>6</th>\n",
       "      <td>7</td>\n",
       "      <td>HSBC Holdings PLC</td>\n",
       "      <td>148.90</td>\n",
       "    </tr>\n",
       "    <tr>\n",
       "      <th>7</th>\n",
       "      <td>8</td>\n",
       "      <td>Morgan Stanley</td>\n",
       "      <td>140.83</td>\n",
       "    </tr>\n",
       "    <tr>\n",
       "      <th>8</th>\n",
       "      <td>9</td>\n",
       "      <td>China Construction Bank</td>\n",
       "      <td>139.82</td>\n",
       "    </tr>\n",
       "    <tr>\n",
       "      <th>9</th>\n",
       "      <td>10</td>\n",
       "      <td>Bank of China</td>\n",
       "      <td>136.81</td>\n",
       "    </tr>\n",
       "  </tbody>\n",
       "</table>\n",
       "</div>"
      ],
      "text/plain": [
       "   Rank                                Bank name  Market cap (US$ billion)\n",
       "0     1                           JPMorgan Chase                    432.92\n",
       "1     2                          Bank of America                    231.52\n",
       "2     3  Industrial and Commercial Bank of China                    194.56\n",
       "3     4               Agricultural Bank of China                    160.68\n",
       "4     5                                HDFC Bank                    157.91\n",
       "5     6                              Wells Fargo                    155.87\n",
       "6     7                        HSBC Holdings PLC                    148.90\n",
       "7     8                           Morgan Stanley                    140.83\n",
       "8     9                  China Construction Bank                    139.82\n",
       "9    10                            Bank of China                    136.81"
      ]
     },
     "execution_count": 22,
     "metadata": {},
     "output_type": "execute_result"
    }
   ],
   "source": [
    "df_main"
   ]
  },
  {
   "cell_type": "markdown",
   "id": "51934753",
   "metadata": {},
   "source": [
    "# Transform"
   ]
  },
  {
   "cell_type": "code",
   "execution_count": 23,
   "id": "8a94f957",
   "metadata": {},
   "outputs": [],
   "source": [
    "def transform(df,csv_path):\n",
    "    exchange_rate = pd.read_csv(csv_path,index_col=0).to_dict()['Rate']\n",
    "    print(exchange_rate)\n",
    "    df['Market cap (Pkr billion)s']= df['Market cap (US$ billion)']* exchange_rate['Pkr']\n",
    "    df['Market cap (Inr billion)s']= df['Market cap (US$ billion)']* exchange_rate['Inr']\n",
    "    df['Market cap (Eur billion)s']= df['Market cap (US$ billion)']* exchange_rate['Eur']\n",
    "    df['Market cap (GBP billion)s']= df['Market cap (US$ billion)']* exchange_rate['GBP']\n",
    "    #print(df)\n",
    "    #save logs\n",
    "    save_logs('Data transformation complete')\n",
    "    \n",
    "    return df\n"
   ]
  },
  {
   "cell_type": "markdown",
   "id": "df7bdb13",
   "metadata": {},
   "source": [
    "# Load"
   ]
  },
  {
   "cell_type": "code",
   "execution_count": null,
   "id": "32b2ac70",
   "metadata": {},
   "outputs": [
    {
     "name": "stdout",
     "output_type": "stream",
     "text": [
      "[(1,)]\n"
     ]
    }
   ],
   "source": [
    "database_name= './output/banks_db.db'\n",
    "with sqlite3.connect(database_name) as conn:\n",
    "    cursor = conn.cursor()\n",
    "    result = conn.execute(\"select 1\")\n",
    "    print(result.fetchall())"
   ]
  },
  {
   "cell_type": "code",
   "execution_count": 25,
   "id": "1102fc85",
   "metadata": {},
   "outputs": [],
   "source": [
    "#load to sql lite\n",
    "def load_data_sql(df,table_name,conn):\n",
    "    cursor = conn.cursor()\n",
    "    df.to_sql(table_name,conn,if_exists='replace',index=False)\n",
    "    \n",
    "def run_query(table_name,conn):\n",
    "    cursor= conn.cursor()\n",
    "    result=cursor.execute(('Select * from Largest_banks'))\n",
    "    print(result.fetchall())    "
   ]
  },
  {
   "cell_type": "code",
   "execution_count": 26,
   "id": "d26bc53a",
   "metadata": {},
   "outputs": [],
   "source": [
    "def load_data(df,output_csv_path):\n",
    "    df.to_csv(output_csv_path)\n",
    "    \n",
    "    save_logs('Data saved to csv file')\n",
    "    return None"
   ]
  },
  {
   "cell_type": "code",
   "execution_count": 27,
   "id": "c993c667",
   "metadata": {},
   "outputs": [
    {
     "name": "stdout",
     "output_type": "stream",
     "text": [
      "https://web.archive.org/web/20230908091635/https://en.wikipedia.org/wiki/List_of_largest_banks\n",
      "{'Pkr': 283.0, 'Inr': 86.0, 'Eur': 0.87, 'GBP': 0.74}\n",
      "   Rank                                Bank name  Market cap (US$ billion)  \\\n",
      "0     1                           JPMorgan Chase                    432.92   \n",
      "1     2                          Bank of America                    231.52   \n",
      "2     3  Industrial and Commercial Bank of China                    194.56   \n",
      "3     4               Agricultural Bank of China                    160.68   \n",
      "4     5                                HDFC Bank                    157.91   \n",
      "5     6                              Wells Fargo                    155.87   \n",
      "6     7                        HSBC Holdings PLC                    148.90   \n",
      "7     8                           Morgan Stanley                    140.83   \n",
      "8     9                  China Construction Bank                    139.82   \n",
      "9    10                            Bank of China                    136.81   \n",
      "\n",
      "   Market cap (Pkr billion)s  Market cap (Inr billion)s  \\\n",
      "0                  122516.36                   37231.12   \n",
      "1                   65520.16                   19910.72   \n",
      "2                   55060.48                   16732.16   \n",
      "3                   45472.44                   13818.48   \n",
      "4                   44688.53                   13580.26   \n",
      "5                   44111.21                   13404.82   \n",
      "6                   42138.70                   12805.40   \n",
      "7                   39854.89                   12111.38   \n",
      "8                   39569.06                   12024.52   \n",
      "9                   38717.23                   11765.66   \n",
      "\n",
      "   Market cap (Eur billion)s  Market cap (GBP billion)s  \n",
      "0                   376.6404                   320.3608  \n",
      "1                   201.4224                   171.3248  \n",
      "2                   169.2672                   143.9744  \n",
      "3                   139.7916                   118.9032  \n",
      "4                   137.3817                   116.8534  \n",
      "5                   135.6069                   115.3438  \n",
      "6                   129.5430                   110.1860  \n",
      "7                   122.5221                   104.2142  \n",
      "8                   121.6434                   103.4668  \n",
      "9                   119.0247                   101.2394  \n",
      "[(1, 'JPMorgan Chase', 432.92, 122516.36, 37231.12, 376.6404, 320.3608), (2, 'Bank of America', 231.52, 65520.16, 19910.72, 201.4224, 171.3248), (3, 'Industrial and Commercial Bank of China', 194.56, 55060.48, 16732.16, 169.2672, 143.9744), (4, 'Agricultural Bank of China', 160.68, 45472.44, 13818.480000000001, 139.79160000000002, 118.9032), (5, 'HDFC Bank', 157.91, 44688.53, 13580.26, 137.3817, 116.8534), (6, 'Wells Fargo', 155.87, 44111.21, 13404.82, 135.6069, 115.3438), (7, 'HSBC Holdings PLC', 148.9, 42138.700000000004, 12805.4, 129.543, 110.186), (8, 'Morgan Stanley', 140.83, 39854.89000000001, 12111.380000000001, 122.52210000000001, 104.2142), (9, 'China Construction Bank', 139.82, 39569.06, 12024.519999999999, 121.6434, 103.46679999999999), (10, 'Bank of China', 136.81, 38717.23, 11765.66, 119.0247, 101.2394)]\n"
     ]
    }
   ],
   "source": [
    "if __name__== '__main__':\n",
    "    url= 'https://web.archive.org/web/20230908091635/https://en.wikipedia.org/wiki/List_of_largest_banks'\n",
    "    csv_path='./input/exchange_rate.csv'\n",
    "    output_csv_path = './output/transformed_exchange_rate.csv'\n",
    "    database_name= './output/banks_db.db'\n",
    "    table_name = 'Largest_banks'\n",
    "    df =extract(url)\n",
    "    df= transform(df,csv_path)\n",
    "    load_data(df,output_csv_path)\n",
    "    print(df)\n",
    "    \n",
    "    with sqlite3.connect(database_name) as conn:\n",
    "        load_data_sql(df,table_name,conn)\n",
    "        run_query(table_name,conn)"
   ]
  },
  {
   "cell_type": "code",
   "execution_count": null,
   "id": "8d0da1f0",
   "metadata": {},
   "outputs": [],
   "source": []
  }
 ],
 "metadata": {
  "kernelspec": {
   "display_name": "base",
   "language": "python",
   "name": "python3"
  },
  "language_info": {
   "codemirror_mode": {
    "name": "ipython",
    "version": 3
   },
   "file_extension": ".py",
   "mimetype": "text/x-python",
   "name": "python",
   "nbconvert_exporter": "python",
   "pygments_lexer": "ipython3",
   "version": "3.12.7"
  }
 },
 "nbformat": 4,
 "nbformat_minor": 5
}
